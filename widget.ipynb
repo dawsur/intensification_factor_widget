{
 "cells": [
  {
   "cell_type": "code",
   "execution_count": 1,
   "metadata": {},
   "outputs": [
    {
     "data": {
      "application/vnd.jupyter.widget-view+json": {
       "model_id": "edc5656bec8e485b8843950cb1835bad",
       "version_major": 2,
       "version_minor": 0
      },
      "text/plain": [
       "VBox(children=(Text(value='1.7, 2.1, 3', description='\\\\(F_a\\\\)'), Text(value='1.2, 1.4, 2.6', description='\\\\…"
      ]
     },
     "metadata": {},
     "output_type": "display_data"
    },
    {
     "data": {
      "application/vnd.jupyter.widget-view+json": {
       "model_id": "577c7d69cb5a4f80863db2caf55bfecb",
       "version_major": 2,
       "version_minor": 0
      },
      "text/plain": [
       "Output()"
      ]
     },
     "metadata": {},
     "output_type": "display_data"
    }
   ],
   "source": [
    "# This program calculates the Intensification Factor based on the method\n",
    "# described here: https://doi.org/10.1016/j.cep.2017.08.013\n",
    "# \n",
    "# Copyright 2020, Dawid Surdeko, d.surdeko@utwente.nl\n",
    "#\n",
    "# This program is free software: you can redistribute it and/or modify\n",
    "# it under the terms of the GNU General Public License as published by\n",
    "# the Free Software Foundation, either version 3 of the License, or\n",
    "# (at your option) any later version.\n",
    "# \n",
    "# This program is distributed in the hope that it will be useful,\n",
    "# but WITHOUT ANY WARRANTY; without even the implied warranty of\n",
    "# MERCHANTABILITY or FITNESS FOR A PARTICULAR PURPOSE.  See the\n",
    "# GNU General Public License for more details.\n",
    "# \n",
    "# You should have received a copy of the GNU General Public License\n",
    "# along with this program.  If not, see <https://www.gnu.org/licenses/>.\n",
    "\n",
    "\n",
    "\n",
    "# CODE\n",
    "\n",
    "# Tag for nbinteract to hide input cell\n",
    "# nbi:hide_in\n",
    "\n",
    "# Importing necessary libraries\n",
    "from __future__ import print_function\n",
    "from ipywidgets import interact, interactive, fixed, interact_manual\n",
    "import ipywidgets as widgets\n",
    "\n",
    "# Defining text input fields with some default values, rendered using LaTeX\n",
    "F_a = widgets.Text('1.7, 2.1, 3', description=r'\\(F_a\\)')\n",
    "F_b = widgets.Text('1.2, 1.4, 2.6', description=r'\\(F_b\\)')\n",
    "b = widgets.Text('1, 1, 1', description=r'\\(b\\)')\n",
    "# Defining the layout of the fields: one below the other\n",
    "ui = widgets.VBox([F_a, F_b, b])\n",
    "\n",
    "# Defining function for the interact widget\n",
    "def intensification_factor(F_a, F_b, b):\n",
    "    \n",
    "    # Catching exceptions\n",
    "    try:\n",
    "    \n",
    "        # Converting the text from input fields to floats\n",
    "        F_a = [float(i) for i in F_a.split(',')]\n",
    "        F_b = [float(i) for i in F_b.split(',')]\n",
    "        b = [float(i) for i in b.split(',')]\n",
    "        \n",
    "        # Checking if lists of variables are equal in length\n",
    "        if (len(F_a) == len(F_b) and len(F_b) == len(b)):\n",
    "        \n",
    "            # Defining the initial value of Intensification Factor (IF)\n",
    "            IF = 1\n",
    "\n",
    "            # Looping over the lists of floats\n",
    "            for i in range(len(F_a)):\n",
    "\n",
    "                # Calculating a single IF and multiplying it by the\n",
    "                # so-far calculated IF\n",
    "                IF = IF*((F_a[i]/F_b[i])**b[i])\n",
    "\n",
    "            # Displaying the result\n",
    "            print(7*' ' + 'IF = ', IF)\n",
    "        \n",
    "        # If lists of variables not equal in length\n",
    "        else:\n",
    "            \n",
    "            # Printing '-' as the output\n",
    "            print(7*' ' + 'IF = -')\n",
    "    \n",
    "    # Handling exceptions\n",
    "    except:\n",
    "        \n",
    "        # Printing '-' as the output if exception was caught\n",
    "        print(7*' ' + 'IF = -')\n",
    "\n",
    "# Creating the widget object for display\n",
    "out = widgets.interactive_output(intensification_factor, {'F_a': F_a, 'F_b': F_b, 'b': b})\n",
    "# Displaying the widget\n",
    "display(ui, out)"
   ]
  }
 ],
 "metadata": {
  "kernelspec": {
   "display_name": "Python 3",
   "language": "python",
   "name": "python3"
  },
  "language_info": {
   "codemirror_mode": {
    "name": "ipython",
    "version": 3
   },
   "file_extension": ".py",
   "mimetype": "text/x-python",
   "name": "python",
   "nbconvert_exporter": "python",
   "pygments_lexer": "ipython3",
   "version": "3.8.5"
  }
 },
 "nbformat": 4,
 "nbformat_minor": 2
}
