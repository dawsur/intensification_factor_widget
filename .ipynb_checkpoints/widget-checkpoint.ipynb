{
 "cells": [
  {
   "cell_type": "code",
   "execution_count": 2,
   "metadata": {},
   "outputs": [
    {
     "data": {
      "application/vnd.jupyter.widget-view+json": {
       "model_id": "6a010372e7684091abf8d7348036ab59",
       "version_major": 2,
       "version_minor": 0
      },
      "text/plain": [
       "VBox(children=(Text(value='1.7, 2.1, 3', description='\\\\(F_a\\\\)'), Text(value='1.2, 1.4, 2.6', description='\\\\…"
      ]
     },
     "metadata": {},
     "output_type": "display_data"
    },
    {
     "data": {
      "application/vnd.jupyter.widget-view+json": {
       "model_id": "f8969eea6672490ea73b6e5097ebac15",
       "version_major": 2,
       "version_minor": 0
      },
      "text/plain": [
       "Output()"
      ]
     },
     "metadata": {},
     "output_type": "display_data"
    }
   ],
   "source": [
    "# This program calculates the Intensification Factor based on the method\n",
    "# described here: https://doi.org/10.1016/j.cep.2017.08.013\n",
    "# \n",
    "# Copyright 2020, Dawid Surdeko, d.surdeko@utwente.nl\n",
    "#\n",
    "# This program is free software: you can redistribute it and/or modify\n",
    "# it under the terms of the GNU General Public License as published by\n",
    "# the Free Software Foundation, either version 3 of the License, or\n",
    "# (at your option) any later version.\n",
    "# \n",
    "# This program is distributed in the hope that it will be useful,\n",
    "# but WITHOUT ANY WARRANTY; without even the implied warranty of\n",
    "# MERCHANTABILITY or FITNESS FOR A PARTICULAR PURPOSE.  See the\n",
    "# GNU General Public License for more details.\n",
    "# \n",
    "# You should have received a copy of the GNU General Public License\n",
    "# along with this program.  If not, see <https://www.gnu.org/licenses/>.\n",
    "\n",
    "\n",
    "\n",
    "# CODE\n",
    "\n",
    "# Tag for nbinteract to hide input cell\n",
    "# nbi:hide_in\n",
    "\n",
    "# Importing necessary libraries\n",
    "from __future__ import print_function\n",
    "from ipywidgets import interact, interactive, fixed, interact_manual\n",
    "import ipywidgets as widgets\n",
    "\n",
    "# Defining text input fields with some default values, rendered using LaTeX\n",
    "F_a = widgets.Text('1.7, 2.1, 3', description=r'\\(F_a\\)')\n",
    "F_b = widgets.Text('1.2, 1.4, 2.6', description=r'\\(F_b\\)')\n",
    "b = widgets.Text('1, 1, 1', description=r'\\(b\\)')\n",
    "# Defining the layout of the fields: one below the other\n",
    "ui = widgets.VBox([F_a, F_b, b])\n",
    "\n",
    "# Defining function for the interact widget\n",
    "def intensification_factor(F_a, F_b, b):\n",
    "    \n",
    "    # Catching exceptions\n",
    "    try:\n",
    "    \n",
    "        # Converting the text from input fields to floats\n",
    "        F_a = [float(i) for i in F_a.split(',')]\n",
    "        F_b = [float(i) for i in F_b.split(',')]\n",
    "        b = [float(i) for i in b.split(',')]\n",
    "        \n",
    "        # Checking if lists of variables are equal in length\n",
    "        if (len(F_a) == len(F_b) and len(F_b) == len(b)):\n",
    "        \n",
    "            # Defining the initial value of Intensification Factor (IF)\n",
    "            IF = 1\n",
    "\n",
    "            # Looping over the lists of floats\n",
    "            for i in range(len(F_a)):\n",
    "\n",
    "                # Calculating a single IF and multiplying it by the\n",
    "                # so-far calculated IF\n",
    "                IF = IF*((F_a[i]/F_b[i])**b[i])\n",
    "\n",
    "            # Displaying the result\n",
    "            print(7*' ' + 'IF = ', IF)\n",
    "        \n",
    "        # If lists of variables not equal in length\n",
    "        else:\n",
    "            \n",
    "            # Printing '-' as the output\n",
    "            print(7*' ' + 'IF = -')\n",
    "    \n",
    "    # Handling exceptions\n",
    "    except:\n",
    "        \n",
    "        # Printing '-' as the output if exception was caught\n",
    "        print(7*' ' + 'IF = -')\n",
    "\n",
    "# Creating the widget object for display\n",
    "out = widgets.interactive_output(intensification_factor, {'F_a': F_a, 'F_b': F_b, 'b': b})\n",
    "# Displaying the widget\n",
    "display(ui, out)"
   ]
  }
 ],
 "metadata": {
  "kernelspec": {
   "display_name": "Python 3",
   "language": "python",
   "name": "python3"
  },
  "language_info": {
   "codemirror_mode": {
    "name": "ipython",
    "version": 3
   },
   "file_extension": ".py",
   "mimetype": "text/x-python",
   "name": "python",
   "nbconvert_exporter": "python",
   "pygments_lexer": "ipython3",
   "version": "3.8.5"
  },
  "widgets": {
   "application/vnd.jupyter.widget-state+json": {
    "state": {
     "079ef9332dd648f087d27a12abe2c0f7": {
      "model_module": "@jupyter-widgets/base",
      "model_module_version": "1.2.0",
      "model_name": "LayoutModel",
      "state": {}
     },
     "0a97d52f84fe4ec597098c106f4f56d8": {
      "model_module": "@jupyter-widgets/controls",
      "model_module_version": "1.5.0",
      "model_name": "DescriptionStyleModel",
      "state": {
       "description_width": ""
      }
     },
     "18da52d7a2bb481192cbd782607ac6be": {
      "model_module": "@jupyter-widgets/controls",
      "model_module_version": "1.5.0",
      "model_name": "DescriptionStyleModel",
      "state": {
       "description_width": ""
      }
     },
     "1ac42abca583468a9989c4df61977c3e": {
      "model_module": "@jupyter-widgets/base",
      "model_module_version": "1.2.0",
      "model_name": "LayoutModel",
      "state": {}
     },
     "2b35c62f4cab4d4a96ac9021cdb99f78": {
      "model_module": "@jupyter-widgets/base",
      "model_module_version": "1.2.0",
      "model_name": "LayoutModel",
      "state": {}
     },
     "369a77559c8e4683899b297195630f02": {
      "model_module": "@jupyter-widgets/controls",
      "model_module_version": "1.5.0",
      "model_name": "DescriptionStyleModel",
      "state": {
       "description_width": ""
      }
     },
     "3f8cd8e87d60429c9b05bb8d80e53471": {
      "model_module": "@jupyter-widgets/controls",
      "model_module_version": "1.5.0",
      "model_name": "DescriptionStyleModel",
      "state": {
       "description_width": ""
      }
     },
     "42d18f8d5e874b669ac1fd5e45e5e9c4": {
      "model_module": "@jupyter-widgets/base",
      "model_module_version": "1.2.0",
      "model_name": "LayoutModel",
      "state": {}
     },
     "577c7d69cb5a4f80863db2caf55bfecb": {
      "model_module": "@jupyter-widgets/output",
      "model_module_version": "1.0.0",
      "model_name": "OutputModel",
      "state": {
       "layout": "IPY_MODEL_a063d7ad1af448d4a9f4dcefc1d89775",
       "outputs": [
        {
         "name": "stdout",
         "output_type": "stream",
         "text": "       IF =  2.451923076923077\n"
        }
       ]
      }
     },
     "6a010372e7684091abf8d7348036ab59": {
      "model_module": "@jupyter-widgets/controls",
      "model_module_version": "1.5.0",
      "model_name": "VBoxModel",
      "state": {
       "children": [
        "IPY_MODEL_73859cffcd054f9094fb4a97125a0c9c",
        "IPY_MODEL_e1d046842d894e298c011c7fa1557140",
        "IPY_MODEL_b12597a5bee444b1aff91791cbba4796"
       ],
       "layout": "IPY_MODEL_b816d706bcdf4d769874940b5bcc5df4"
      }
     },
     "73859cffcd054f9094fb4a97125a0c9c": {
      "model_module": "@jupyter-widgets/controls",
      "model_module_version": "1.5.0",
      "model_name": "TextModel",
      "state": {
       "description": "\\(F_a\\)",
       "layout": "IPY_MODEL_079ef9332dd648f087d27a12abe2c0f7",
       "style": "IPY_MODEL_3f8cd8e87d60429c9b05bb8d80e53471",
       "value": "1.7, 2.1, 3"
      }
     },
     "7983dfb3de1a4c98bdbff9013e6fae50": {
      "model_module": "@jupyter-widgets/base",
      "model_module_version": "1.2.0",
      "model_name": "LayoutModel",
      "state": {}
     },
     "8b26b15adf684144a9996b5226ca6131": {
      "model_module": "@jupyter-widgets/controls",
      "model_module_version": "1.5.0",
      "model_name": "DescriptionStyleModel",
      "state": {
       "description_width": ""
      }
     },
     "8ee072584c1e403f85a751d359247b6c": {
      "model_module": "@jupyter-widgets/base",
      "model_module_version": "1.2.0",
      "model_name": "LayoutModel",
      "state": {}
     },
     "91ce4f0df44649a7b8d070fbcfbe704f": {
      "model_module": "@jupyter-widgets/controls",
      "model_module_version": "1.5.0",
      "model_name": "DescriptionStyleModel",
      "state": {
       "description_width": ""
      }
     },
     "96059595fc8c49aaaa811a6907869831": {
      "model_module": "@jupyter-widgets/controls",
      "model_module_version": "1.5.0",
      "model_name": "TextModel",
      "state": {
       "description": "\\(b\\)",
       "layout": "IPY_MODEL_7983dfb3de1a4c98bdbff9013e6fae50",
       "style": "IPY_MODEL_0a97d52f84fe4ec597098c106f4f56d8",
       "value": "1, 1, 1"
      }
     },
     "a063d7ad1af448d4a9f4dcefc1d89775": {
      "model_module": "@jupyter-widgets/base",
      "model_module_version": "1.2.0",
      "model_name": "LayoutModel",
      "state": {}
     },
     "a3c9ea98ec53478dbd2f1f76821c2453": {
      "model_module": "@jupyter-widgets/base",
      "model_module_version": "1.2.0",
      "model_name": "LayoutModel",
      "state": {}
     },
     "ad82cc7116d343349253265623ca9f4c": {
      "model_module": "@jupyter-widgets/base",
      "model_module_version": "1.2.0",
      "model_name": "LayoutModel",
      "state": {}
     },
     "b12597a5bee444b1aff91791cbba4796": {
      "model_module": "@jupyter-widgets/controls",
      "model_module_version": "1.5.0",
      "model_name": "TextModel",
      "state": {
       "description": "\\(b\\)",
       "layout": "IPY_MODEL_2b35c62f4cab4d4a96ac9021cdb99f78",
       "style": "IPY_MODEL_8b26b15adf684144a9996b5226ca6131",
       "value": "1, 1, 1"
      }
     },
     "b816d706bcdf4d769874940b5bcc5df4": {
      "model_module": "@jupyter-widgets/base",
      "model_module_version": "1.2.0",
      "model_name": "LayoutModel",
      "state": {}
     },
     "c37877a74ca24681a7c5dc8a5821ca26": {
      "model_module": "@jupyter-widgets/controls",
      "model_module_version": "1.5.0",
      "model_name": "TextModel",
      "state": {
       "description": "\\(F_b\\)",
       "layout": "IPY_MODEL_ad82cc7116d343349253265623ca9f4c",
       "style": "IPY_MODEL_91ce4f0df44649a7b8d070fbcfbe704f",
       "value": "1.2, 1.4, 2.6"
      }
     },
     "e1d046842d894e298c011c7fa1557140": {
      "model_module": "@jupyter-widgets/controls",
      "model_module_version": "1.5.0",
      "model_name": "TextModel",
      "state": {
       "description": "\\(F_b\\)",
       "layout": "IPY_MODEL_1ac42abca583468a9989c4df61977c3e",
       "style": "IPY_MODEL_18da52d7a2bb481192cbd782607ac6be",
       "value": "1.2, 1.4, 2.6"
      }
     },
     "e86079b903164ffa8bae1cac2c3f0354": {
      "model_module": "@jupyter-widgets/controls",
      "model_module_version": "1.5.0",
      "model_name": "TextModel",
      "state": {
       "description": "\\(F_a\\)",
       "layout": "IPY_MODEL_8ee072584c1e403f85a751d359247b6c",
       "style": "IPY_MODEL_369a77559c8e4683899b297195630f02",
       "value": "1.7, 2.1, 3"
      }
     },
     "edc5656bec8e485b8843950cb1835bad": {
      "model_module": "@jupyter-widgets/controls",
      "model_module_version": "1.5.0",
      "model_name": "VBoxModel",
      "state": {
       "children": [
        "IPY_MODEL_e86079b903164ffa8bae1cac2c3f0354",
        "IPY_MODEL_c37877a74ca24681a7c5dc8a5821ca26",
        "IPY_MODEL_96059595fc8c49aaaa811a6907869831"
       ],
       "layout": "IPY_MODEL_42d18f8d5e874b669ac1fd5e45e5e9c4"
      }
     },
     "f8969eea6672490ea73b6e5097ebac15": {
      "model_module": "@jupyter-widgets/output",
      "model_module_version": "1.0.0",
      "model_name": "OutputModel",
      "state": {
       "layout": "IPY_MODEL_a3c9ea98ec53478dbd2f1f76821c2453",
       "outputs": [
        {
         "name": "stdout",
         "output_type": "stream",
         "text": "       IF =  2.451923076923077\n"
        }
       ]
      }
     }
    },
    "version_major": 2,
    "version_minor": 0
   }
  }
 },
 "nbformat": 4,
 "nbformat_minor": 2
}
