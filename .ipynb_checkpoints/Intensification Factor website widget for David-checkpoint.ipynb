{
 "cells": [
  {
   "cell_type": "code",
   "execution_count": 125,
   "metadata": {},
   "outputs": [
    {
     "data": {
      "application/vnd.jupyter.widget-view+json": {
       "model_id": "19cedc9ec1214a15ad504c1de412b4eb",
       "version_major": 2,
       "version_minor": 0
      },
      "text/plain": [
       "VBox(children=(Text(value='1.7, 2.1, 3', description='\\\\(F_a\\\\)'), Text(value='1.2, 1,4, 2.7', description='\\\\…"
      ]
     },
     "metadata": {},
     "output_type": "display_data"
    },
    {
     "data": {
      "application/vnd.jupyter.widget-view+json": {
       "model_id": "a62fb2ba1a4942fea1820b7a41073ef2",
       "version_major": 2,
       "version_minor": 0
      },
      "text/plain": [
       "Output()"
      ]
     },
     "metadata": {},
     "output_type": "display_data"
    }
   ],
   "source": [
    "from __future__ import print_function\n",
    "from ipywidgets import interact, interactive, fixed, interact_manual\n",
    "import ipywidgets as widgets\n",
    "from IPython.display import display, Math\n",
    "\n",
    "F_a = widgets.Text('1.7, 2.1, 3', description=r'\\(F_a\\)')\n",
    "F_b = widgets.Text('1.2, 1,4, 2.7', description=r'\\(F_b\\)')\n",
    "b = widgets.Text('1, 1, 1', description=r'\\(b\\)')\n",
    "ui = widgets.VBox([F_a, F_b, b])\n",
    "\n",
    "def intensification_factor(F_a, F_b, b):\n",
    "    \n",
    "    try:\n",
    "    \n",
    "        F_a = [float(i) for i in F_a.split(',')]\n",
    "        F_b = [float(i) for i in F_b.split(',')]\n",
    "        b = [float(i) for i in b.split(',')]\n",
    "    \n",
    "        IF = 1\n",
    "\n",
    "        for i in range(len(F_a)):\n",
    "\n",
    "            IF = IF*((F_a[i]/F_b[i])**b[i])\n",
    "\n",
    "        #display(Math(r'IF = '+ str(round(IF,4))))\n",
    "        print('IF = ', IF)\n",
    "    \n",
    "    except:\n",
    "        \n",
    "        print(' ')\n",
    "\n",
    "\n",
    "out = widgets.interactive_output(intensification_factor, {'F_a': F_a, 'F_b': F_b, 'b': b})\n",
    "\n",
    "display(ui, out)"
   ]
  },
  {
   "cell_type": "code",
   "execution_count": 126,
   "metadata": {},
   "outputs": [
    {
     "data": {
      "application/vnd.jupyter.widget-view+json": {
       "model_id": "463233d33c1c46a08f45302cd49031f6",
       "version_major": 2,
       "version_minor": 0
      },
      "text/plain": [
       "VBox(children=(Text(value='1.7, 2.1, 3', description='\\\\(F_a\\\\)'), Text(value='1.2, 1,4, 2.7', description='\\\\…"
      ]
     },
     "metadata": {},
     "output_type": "display_data"
    },
    {
     "data": {
      "application/vnd.jupyter.widget-view+json": {
       "model_id": "7df1f24f2853492e829a7e87e07e660e",
       "version_major": 2,
       "version_minor": 0
      },
      "text/plain": [
       "Output()"
      ]
     },
     "metadata": {},
     "output_type": "display_data"
    }
   ],
   "source": [
    "from __future__ import print_function\n",
    "from ipywidgets import interact, interactive, fixed, interact_manual\n",
    "import ipywidgets as widgets\n",
    "from IPython.display import display, Math\n",
    "\n",
    "F_a = widgets.Text('1.7, 2.1, 3', description=r'\\(F_a\\)')\n",
    "F_b = widgets.Text('1.2, 1,4, 2.7', description=r'\\(F_b\\)')\n",
    "b = widgets.Text('1, 1, 1', description=r'\\(b\\)')\n",
    "rounding = widgets.Text('4', description=r'\\(\\text{rounding}\\)')\n",
    "ui = widgets.VBox([F_a, F_b, b, rounding])\n",
    "\n",
    "def intensification_factor(F_a, F_b, b, rounding):\n",
    "    \n",
    "    try:\n",
    "    \n",
    "        F_a = [float(i) for i in F_a.split(',')]\n",
    "        F_b = [float(i) for i in F_b.split(',')]\n",
    "        b = [float(i) for i in b.split(',')]\n",
    "        rounding = float(rounding)\n",
    "    \n",
    "        IF = 1\n",
    "\n",
    "        for i in range(len(F_a)):\n",
    "\n",
    "            IF = IF*((F_a[i]/F_b[i])**b[i])\n",
    "\n",
    "        #display(Math(r'IF = '+ str(round(IF,4))))\n",
    "        print('IF = ', IF)\n",
    "    \n",
    "    except:\n",
    "        \n",
    "        print(' ')\n",
    "\n",
    "\n",
    "out = widgets.interactive_output(intensification_factor, {'F_a': F_a, 'F_b': F_b, 'b': b, 'rounding': rounding})\n",
    "\n",
    "display(ui, out)"
   ]
  },
  {
   "cell_type": "code",
   "execution_count": null,
   "metadata": {},
   "outputs": [],
   "source": []
  }
 ],
 "metadata": {
  "kernelspec": {
   "display_name": "Python 3",
   "language": "python",
   "name": "python3"
  },
  "language_info": {
   "codemirror_mode": {
    "name": "ipython",
    "version": 3
   },
   "file_extension": ".py",
   "mimetype": "text/x-python",
   "name": "python",
   "nbconvert_exporter": "python",
   "pygments_lexer": "ipython3",
   "version": "3.8.5"
  }
 },
 "nbformat": 4,
 "nbformat_minor": 4
}
